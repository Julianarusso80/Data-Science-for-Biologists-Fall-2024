{
 "cells": [
  {
   "cell_type": "markdown",
   "id": "54768396-a82a-4303-810f-ea30b6fb2556",
   "metadata": {},
   "source": [
    "1. One purpose for github is to post coding projects so that you can share the files with collaborators, future employers, or to supplement a published research article.  \n",
    "2. Version control is how the software like github keeps track of changes made to your file and saves them into versions of the file that can be accessed later. This could help the project because after peer review there will be changes made and it will be easier to track progress if you can see earlier versions of it as well, and it is a way to show which changes you implemented. \n",
    "3. In a group project github could manage collaboration by tracking the changes made to the project as different contributors add to it and previous versions can be accessed to try and find problems in the code. It is a way to share and work on"
   ]
  }
 ],
 "metadata": {
  "kernelspec": {
   "display_name": "Python 3 (ipykernel)",
   "language": "python",
   "name": "python3"
  },
  "language_info": {
   "codemirror_mode": {
    "name": "ipython",
    "version": 3
   },
   "file_extension": ".py",
   "mimetype": "text/x-python",
   "name": "python",
   "nbconvert_exporter": "python",
   "pygments_lexer": "ipython3",
   "version": "3.12.5"
  }
 },
 "nbformat": 4,
 "nbformat_minor": 5
}
