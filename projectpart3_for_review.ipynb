{
 "cells": [
  {
   "cell_type": "markdown",
   "id": "6ef74a2a-fd49-46ee-aee1-a5ac63f25f0d",
   "metadata": {},
   "source": [
    "Imported packages: "
   ]
  },
  {
   "cell_type": "code",
   "execution_count": 2,
   "id": "98240e8e-5edf-4567-9c34-4f9fe7b61862",
   "metadata": {},
   "outputs": [],
   "source": [
    "import pandas as pd \n",
    "import seaborn as sns\n",
    "import numpy as np "
   ]
  },
  {
   "cell_type": "markdown",
   "id": "e3b35ffe-74bc-40ca-ad17-ee130e5dc784",
   "metadata": {},
   "source": [
    "Link to research paper: https://onlinelibrary.wiley.com/doi/epdf/10.1002/ece3.1496 "
   ]
  },
  {
   "cell_type": "markdown",
   "id": "b1cec023-9b9b-4883-a136-924a8446f453",
   "metadata": {},
   "source": [
    "Part 1: \n",
    "- Introduction\n",
    "\n",
    "The overall goal of this research paper was to investigate Atlantic cod's behavior in response to changing water temperature over time due to increase in sea temperature. The researchers tagged 191 fish and used telemetry data to measure features of their behavior during the day and at night for four years. The goal was to measure the average depth that the fish typically reside at different times of days, different seasons, and the water temperature was recorded. Other features recorded included rainfall that day, distance the fish traveled that day, the body length of the fish, and if upwelling had occured. It should be noted that this study was conducted in the wild, in Sømskilen bay in Norway, and not in a fishing laboratory. "
   ]
  },
  {
   "cell_type": "markdown",
   "id": "2fee2b8a-d623-4e71-92ad-99e92cb98f72",
   "metadata": {},
   "source": [
    "Part 2: \n",
    "- Project Part 2 "
   ]
  },
  {
   "cell_type": "markdown",
   "id": "2dfd8fa8-fc5c-459c-afa0-3b2a8630150a",
   "metadata": {},
   "source": [
    "Section 1:\n",
    "\n",
    "1.\tDescribe the data:\n",
    "\n",
    "a.\tThe observations of this study are the individual fish ( Atlantic cod) that the researchers tagged and collected the data from. There were 191 fish tagged. The researchers used biotelemetry technology after tagging the cod to track their behavior in the central portion of the Norwegian Skagerrak coast, specifically in Sømskilen bay. The cod were tagged based on their body length and position of capture in the study area. The tags included a pressure sensor that could record the depth and time of day that each fish was at that depth. They also could sense the distance the fish traveled and their activity level. Other qualities of the bay were recorded from abiotic sensors such as temperature of the water, precipitation, and if any upwelling (cold ocean water rises to the surface lowering the surface temperature of the water) has occurred. The fish were observed for 4 years, 2008-2012. The total number of observations of the 191 fish over the 4 year timeline was 20,974 observations.\n",
    "\n",
    "b.\tThere are 14 features in this study and they are the date that data point was collected, the id of the fish the data point comes from, the season the data was collected, the average depth the fish occupied during the day, the average depth the fish occupied at night, the distance the fish traveled that day, the temperature of 1 meter deep at their location, the temperature at 19 meters deep at their location, the amount of precipitation in the area, and whether upwelling occurred that day. The features give information about the behavior of the fish on different days under different conditions. \n",
    "\n",
    "c.\tOther data presented in the research paper included background information about the cod species that the study focuses on, Gadus morhua, like how they are ectotherms, so temperature changes affect their behavior because their body temperature matches its surroundings. Other background information is that the species has declined due to overfishing and so this research is important to their conservation as aquatic environments change. This background helps to form the aim and hypothesis of the study. \n",
    "\n",
    "3.\tHow the data relates to research questions:\n",
    "\n",
    "a.\tThe research questions the authors were trying to answer was whether water temperature affected the behavior of the Atlantic cod. The researchers hypothesized that the cod’s behavior based on the depth of water they occupy at different times of day would be influenced by changing water temperatures over time. The collected data will help investigate the hypothesis because the researchers observed a large population of cod fish over a long period of time (4 years) and recorded their depths during different seasons and times of day. \n",
    "\n",
    "b.\tAnother research question that could be answered using this data set is if the occurrence of upwelling, or the addition of colder ocean water to the surface of the bay, would change the average depth during the day that the fish resided in, and if this changes based on the season (summer or winter). The researchers recorded upwelling occurrence and the depth during the day during the two seasons in question so this data could also be used to observe this relationship. This would be useful to potentially strengthen or weaken the relationship between water temperature and behavior. \n",
    "\n",
    "Section 2:\n",
    "\n",
    "1.\tTwo figures:\n",
    "\n",
    "  \n",
    "a.\tFigure 1:\n",
    " \n",
    "i.\tThe x-axis on both graphs in this figure represents the temperature of the water and the y-axis is the average depth that the fish occupied when the water is at that temperature.   The individual data points are the fish that were tagged for the study, and the colored lines are separated by their body length, either 75 cm (red) or 35 cm (orange). Figure A represents the depth and temperature of the fish during the daytime, and Figure B represents the depth and temperature during nighttime. \n",
    "\n",
    "ii.\tThe authors chose to  include this figure because it visualizes the trend in the relationship between the depths that fish occupy based on the current water temperature. These graphs support the hypothesis that there is a relationship between where the fish occupy, and the water temperature and you can visualize that there is a difference in depth on the y axis as the temperature on the x axis changes. \n",
    "\n",
    "iii.\tA conclusion you can draw from this figure is that as the temperature of the water increases, the depth that the fish occupy also increases (there are descending values on the y axis). Another conclusion could be that fish with smaller body lengths generally reside at deeper depths during the daytime than fish with longer body lengths, and this is the opposite at night. \n",
    "\n",
    "b.\tFigure 2:\n",
    " \n",
    "i.\tThe x-axis of both plots are the temperature of the water, and the y axis is the average depth that the fish occupy for that temperature. The individual plots on the graph are the 191 fish and the size of the dot is correlated to their body length based on the legend on the side. These plots represent information recorded in one day. Plot A shows data from the daytime and plot B shows data from the nighttime. \n",
    "\n",
    "ii.\tThe authors chose to include these plots because they represent the behavior of the fish based on two features, temperature and body size. These plots support the hypothesis that there is a relationship between depth and temperature but do show an extra layer of information by separating for body size. \n",
    "\n",
    "iii.\tA conclusion that can be made from these plots is that larger bodied fish remain at deeper depths in warmer temperatures during the day and night, while smaller fish remain at more shallow depths in lower temperatures during the day and night. \n",
    "\n",
    "2.\tAnother figure that could be useful for understanding the data\n",
    "\n",
    "a.\tAnother figure that could be useful would be two histogram plots. Both histograms would include all 191 fish. Histogram 1 would represent temperatures above 10 C and histogram 2 would represent temperatures below 10 C. The x axis represents the average depth for the fish at its respective temperature. The y axis would be the number of fish within each depth range. This plot would be useful to see the distribution of and overall behavior of the fish at different water temperatures which relates to the hypothesis of the study that water temperature affects depth of fish.  Below are potential resulting histograms where it is observed that more fish are in more shallow depths at higher temperatures compared to fish residing in deeper depths at lower temperatures. \n",
    " \n",
    "\n",
    "Section 3:\n",
    "\n",
    "1.\tThere is 1 file in the dataset:\n",
    "\n",
    "  \n",
    "File 1: \n",
    " \n",
    "a.\tThe rows of this datafile represent observations, which are the tagged Atlantic cod fish on different days. There are 20,975 rows in this data file. The columns of the file are the features, and there are 16 columns in the data file. This data file relates to the research paper because it contains the raw data that the authors of the paper collected and analyzed to support their hypothesis. Their hypothesis was that there is a relationship between water temperature and depth the fish reside in, so they collected information about both things along with some extra data. The extra data includes the season, the precipitation level, the time of day, and the fish’s activity level. \n",
    "\n",
    "b.\tThe format of this file is in a table in an excel file that I downloaded from data dryad. The cells of the file represent individual data points. I used the data function in excel to determine the delimiter of the file which are that the data are separated by tabs."
   ]
  },
  {
   "cell_type": "markdown",
   "id": "4002a9b7-283b-45b3-919b-7151b8e55e2d",
   "metadata": {},
   "source": [
    "- Here I will put the changes I made to project part 2 once I receive feedback. "
   ]
  },
  {
   "cell_type": "markdown",
   "id": "afd1441b-a160-455d-839e-7411010b25f7",
   "metadata": {},
   "source": [
    "Part 3:\n",
    "- Data cleaning and exploration "
   ]
  },
  {
   "cell_type": "markdown",
   "id": "2ded3ff5-c37b-4cba-99fd-868c657e3fbe",
   "metadata": {},
   "source": [
    "Link to original data in data dryad: \n",
    "https://datadryad.org/stash/dataset/doi:10.5061/dryad.8m65n \n",
    "I downloaded the excel file labeled 'Data.xlsx' from data dryad and opened the file. I saved it to my computer called 'cod_data' which is the file I opened in the code cell below. I used the pd function after importing pandas at the top of this notebook to create a dataframe from the excel sheet I downloaded from data dryad. There was only one data file attached to this paper so I only downloaded 1 excel sheet. "
   ]
  },
  {
   "cell_type": "code",
   "execution_count": 3,
   "id": "ce30357f-5b87-4e8e-ba11-0d3210316c38",
   "metadata": {},
   "outputs": [],
   "source": [
    "cod_data = pd.read_csv('cod_data.csv') "
   ]
  },
  {
   "cell_type": "code",
   "execution_count": 4,
   "id": "c2321de0-ab67-43d3-a294-240b39544637",
   "metadata": {},
   "outputs": [
    {
     "data": {
      "text/html": [
       "<div>\n",
       "<style scoped>\n",
       "    .dataframe tbody tr th:only-of-type {\n",
       "        vertical-align: middle;\n",
       "    }\n",
       "\n",
       "    .dataframe tbody tr th {\n",
       "        vertical-align: top;\n",
       "    }\n",
       "\n",
       "    .dataframe thead th {\n",
       "        text-align: right;\n",
       "    }\n",
       "</style>\n",
       "<table border=\"1\" class=\"dataframe\">\n",
       "  <thead>\n",
       "    <tr style=\"text-align: right;\">\n",
       "      <th></th>\n",
       "      <th>Date</th>\n",
       "      <th>Fish_id</th>\n",
       "      <th>Body_length</th>\n",
       "      <th>Fish_date</th>\n",
       "      <th>Year</th>\n",
       "      <th>Julian_day</th>\n",
       "      <th>Season</th>\n",
       "      <th>Average_depth_day</th>\n",
       "      <th>Average_depth_night</th>\n",
       "      <th>DVM</th>\n",
       "      <th>Activity</th>\n",
       "      <th>Distance</th>\n",
       "      <th>Temperature_1m</th>\n",
       "      <th>Temperature_19m</th>\n",
       "      <th>Precipitation</th>\n",
       "      <th>Upwelling</th>\n",
       "    </tr>\n",
       "  </thead>\n",
       "  <tbody>\n",
       "    <tr>\n",
       "      <th>0</th>\n",
       "      <td>7/16/2008</td>\n",
       "      <td>51</td>\n",
       "      <td>31</td>\n",
       "      <td>051_2008_07_16</td>\n",
       "      <td>2008</td>\n",
       "      <td>198</td>\n",
       "      <td>summer</td>\n",
       "      <td>13.433204</td>\n",
       "      <td>2.423529</td>\n",
       "      <td>11.009674</td>\n",
       "      <td>1.431010</td>\n",
       "      <td>161.677132</td>\n",
       "      <td>14.90</td>\n",
       "      <td>14.00</td>\n",
       "      <td>0.0</td>\n",
       "      <td>0</td>\n",
       "    </tr>\n",
       "    <tr>\n",
       "      <th>1</th>\n",
       "      <td>7/17/2008</td>\n",
       "      <td>51</td>\n",
       "      <td>31</td>\n",
       "      <td>051_2008_07_17</td>\n",
       "      <td>2008</td>\n",
       "      <td>199</td>\n",
       "      <td>summer</td>\n",
       "      <td>5.547172</td>\n",
       "      <td>3.010000</td>\n",
       "      <td>2.537172</td>\n",
       "      <td>0.793285</td>\n",
       "      <td>77.358805</td>\n",
       "      <td>14.70</td>\n",
       "      <td>13.80</td>\n",
       "      <td>0.3</td>\n",
       "      <td>0</td>\n",
       "    </tr>\n",
       "    <tr>\n",
       "      <th>2</th>\n",
       "      <td>7/18/2008</td>\n",
       "      <td>51</td>\n",
       "      <td>31</td>\n",
       "      <td>051_2008_07_18</td>\n",
       "      <td>2008</td>\n",
       "      <td>200</td>\n",
       "      <td>summer</td>\n",
       "      <td>3.144156</td>\n",
       "      <td>4.133600</td>\n",
       "      <td>-0.989444</td>\n",
       "      <td>0.767494</td>\n",
       "      <td>55.954018</td>\n",
       "      <td>14.80</td>\n",
       "      <td>13.70</td>\n",
       "      <td>0.0</td>\n",
       "      <td>0</td>\n",
       "    </tr>\n",
       "    <tr>\n",
       "      <th>3</th>\n",
       "      <td>7/19/2008</td>\n",
       "      <td>51</td>\n",
       "      <td>31</td>\n",
       "      <td>051_2008_07_19</td>\n",
       "      <td>2008</td>\n",
       "      <td>201</td>\n",
       "      <td>summer</td>\n",
       "      <td>3.286818</td>\n",
       "      <td>4.223571</td>\n",
       "      <td>-0.936753</td>\n",
       "      <td>0.889964</td>\n",
       "      <td>43.554936</td>\n",
       "      <td>15.10</td>\n",
       "      <td>14.80</td>\n",
       "      <td>0.0</td>\n",
       "      <td>0</td>\n",
       "    </tr>\n",
       "    <tr>\n",
       "      <th>4</th>\n",
       "      <td>7/20/2008</td>\n",
       "      <td>51</td>\n",
       "      <td>31</td>\n",
       "      <td>051_2008_07_20</td>\n",
       "      <td>2008</td>\n",
       "      <td>202</td>\n",
       "      <td>summer</td>\n",
       "      <td>1.614118</td>\n",
       "      <td>5.640417</td>\n",
       "      <td>-4.026299</td>\n",
       "      <td>0.629695</td>\n",
       "      <td>49.739616</td>\n",
       "      <td>15.90</td>\n",
       "      <td>14.30</td>\n",
       "      <td>31.5</td>\n",
       "      <td>0</td>\n",
       "    </tr>\n",
       "    <tr>\n",
       "      <th>...</th>\n",
       "      <td>...</td>\n",
       "      <td>...</td>\n",
       "      <td>...</td>\n",
       "      <td>...</td>\n",
       "      <td>...</td>\n",
       "      <td>...</td>\n",
       "      <td>...</td>\n",
       "      <td>...</td>\n",
       "      <td>...</td>\n",
       "      <td>...</td>\n",
       "      <td>...</td>\n",
       "      <td>...</td>\n",
       "      <td>...</td>\n",
       "      <td>...</td>\n",
       "      <td>...</td>\n",
       "      <td>...</td>\n",
       "    </tr>\n",
       "    <tr>\n",
       "      <th>20969</th>\n",
       "      <td>1/3/2012</td>\n",
       "      <td>5589</td>\n",
       "      <td>60</td>\n",
       "      <td>5589_2012_01_03</td>\n",
       "      <td>2012</td>\n",
       "      <td>3</td>\n",
       "      <td>winter</td>\n",
       "      <td>7.298378</td>\n",
       "      <td>7.718380</td>\n",
       "      <td>-0.420002</td>\n",
       "      <td>0.516756</td>\n",
       "      <td>60.520278</td>\n",
       "      <td>5.27</td>\n",
       "      <td>7.40</td>\n",
       "      <td>4.0</td>\n",
       "      <td>0</td>\n",
       "    </tr>\n",
       "    <tr>\n",
       "      <th>20970</th>\n",
       "      <td>1/4/2012</td>\n",
       "      <td>5589</td>\n",
       "      <td>60</td>\n",
       "      <td>5589_2012_01_04</td>\n",
       "      <td>2012</td>\n",
       "      <td>4</td>\n",
       "      <td>winter</td>\n",
       "      <td>15.466400</td>\n",
       "      <td>6.429205</td>\n",
       "      <td>9.037195</td>\n",
       "      <td>0.639043</td>\n",
       "      <td>47.804354</td>\n",
       "      <td>7.30</td>\n",
       "      <td>8.01</td>\n",
       "      <td>29.1</td>\n",
       "      <td>1</td>\n",
       "    </tr>\n",
       "    <tr>\n",
       "      <th>20971</th>\n",
       "      <td>1/5/2012</td>\n",
       "      <td>5589</td>\n",
       "      <td>60</td>\n",
       "      <td>5589_2012_01_05</td>\n",
       "      <td>2012</td>\n",
       "      <td>5</td>\n",
       "      <td>winter</td>\n",
       "      <td>14.062500</td>\n",
       "      <td>14.351079</td>\n",
       "      <td>-0.288579</td>\n",
       "      <td>0.601409</td>\n",
       "      <td>25.310348</td>\n",
       "      <td>7.42</td>\n",
       "      <td>7.62</td>\n",
       "      <td>4.0</td>\n",
       "      <td>1</td>\n",
       "    </tr>\n",
       "    <tr>\n",
       "      <th>20972</th>\n",
       "      <td>1/6/2012</td>\n",
       "      <td>5589</td>\n",
       "      <td>60</td>\n",
       "      <td>5589_2012_01_06</td>\n",
       "      <td>2012</td>\n",
       "      <td>6</td>\n",
       "      <td>winter</td>\n",
       "      <td>14.858182</td>\n",
       "      <td>14.585034</td>\n",
       "      <td>0.273148</td>\n",
       "      <td>0.525423</td>\n",
       "      <td>42.378449</td>\n",
       "      <td>6.74</td>\n",
       "      <td>6.88</td>\n",
       "      <td>2.5</td>\n",
       "      <td>0</td>\n",
       "    </tr>\n",
       "    <tr>\n",
       "      <th>20973</th>\n",
       "      <td>1/7/2012</td>\n",
       "      <td>5589</td>\n",
       "      <td>60</td>\n",
       "      <td>5589_2012_01_07</td>\n",
       "      <td>2012</td>\n",
       "      <td>7</td>\n",
       "      <td>winter</td>\n",
       "      <td>14.160000</td>\n",
       "      <td>14.315603</td>\n",
       "      <td>-0.155603</td>\n",
       "      <td>0.427618</td>\n",
       "      <td>41.926920</td>\n",
       "      <td>6.66</td>\n",
       "      <td>6.91</td>\n",
       "      <td>0.0</td>\n",
       "      <td>0</td>\n",
       "    </tr>\n",
       "  </tbody>\n",
       "</table>\n",
       "<p>20974 rows × 16 columns</p>\n",
       "</div>"
      ],
      "text/plain": [
       "            Date  Fish_id  Body_length        Fish_date  Year  Julian_day  \\\n",
       "0      7/16/2008       51           31   051_2008_07_16  2008         198   \n",
       "1      7/17/2008       51           31   051_2008_07_17  2008         199   \n",
       "2      7/18/2008       51           31   051_2008_07_18  2008         200   \n",
       "3      7/19/2008       51           31   051_2008_07_19  2008         201   \n",
       "4      7/20/2008       51           31   051_2008_07_20  2008         202   \n",
       "...          ...      ...          ...              ...   ...         ...   \n",
       "20969   1/3/2012     5589           60  5589_2012_01_03  2012           3   \n",
       "20970   1/4/2012     5589           60  5589_2012_01_04  2012           4   \n",
       "20971   1/5/2012     5589           60  5589_2012_01_05  2012           5   \n",
       "20972   1/6/2012     5589           60  5589_2012_01_06  2012           6   \n",
       "20973   1/7/2012     5589           60  5589_2012_01_07  2012           7   \n",
       "\n",
       "       Season  Average_depth_day  Average_depth_night        DVM  Activity  \\\n",
       "0      summer          13.433204             2.423529  11.009674  1.431010   \n",
       "1      summer           5.547172             3.010000   2.537172  0.793285   \n",
       "2      summer           3.144156             4.133600  -0.989444  0.767494   \n",
       "3      summer           3.286818             4.223571  -0.936753  0.889964   \n",
       "4      summer           1.614118             5.640417  -4.026299  0.629695   \n",
       "...       ...                ...                  ...        ...       ...   \n",
       "20969  winter           7.298378             7.718380  -0.420002  0.516756   \n",
       "20970  winter          15.466400             6.429205   9.037195  0.639043   \n",
       "20971  winter          14.062500            14.351079  -0.288579  0.601409   \n",
       "20972  winter          14.858182            14.585034   0.273148  0.525423   \n",
       "20973  winter          14.160000            14.315603  -0.155603  0.427618   \n",
       "\n",
       "         Distance  Temperature_1m  Temperature_19m  Precipitation  Upwelling  \n",
       "0      161.677132           14.90            14.00            0.0          0  \n",
       "1       77.358805           14.70            13.80            0.3          0  \n",
       "2       55.954018           14.80            13.70            0.0          0  \n",
       "3       43.554936           15.10            14.80            0.0          0  \n",
       "4       49.739616           15.90            14.30           31.5          0  \n",
       "...           ...             ...              ...            ...        ...  \n",
       "20969   60.520278            5.27             7.40            4.0          0  \n",
       "20970   47.804354            7.30             8.01           29.1          1  \n",
       "20971   25.310348            7.42             7.62            4.0          1  \n",
       "20972   42.378449            6.74             6.88            2.5          0  \n",
       "20973   41.926920            6.66             6.91            0.0          0  \n",
       "\n",
       "[20974 rows x 16 columns]"
      ]
     },
     "execution_count": 4,
     "metadata": {},
     "output_type": "execute_result"
    }
   ],
   "source": [
    "cod_data"
   ]
  },
  {
   "cell_type": "markdown",
   "id": "06c15193-cdd7-4b4d-afdd-c43b81ec24aa",
   "metadata": {},
   "source": [
    "This file did not require any cleaning because there is data in all of the cells. To check the data frame I made sure that all of the features were in the columns, there are 14, and the observations are in the rows, there are 20,973. "
   ]
  },
  {
   "cell_type": "markdown",
   "id": "b92e97ce-2d43-461b-a993-cf0ec817d849",
   "metadata": {},
   "source": [
    "3.2 \n",
    "\n",
    "In the code cell below I used the shape function on the dataframe I made called 'cod_data' to obtain the number of rows and columns. The 20,974 rows are the 191 (181 by the end due to loss of follow up data for some of the fish) fish observed night and day for several days each season of the four years that the study was conducted. The 15 columns include the 14 features like date, the id of the fish, fish body length, year, season, average depth in the day, average depth in the night, activity level, distance traveled, temperature at 1 and 19 meters, precipitation, and upwelling. "
   ]
  },
  {
   "cell_type": "code",
   "execution_count": 5,
   "id": "dd64c0c8-a532-4ead-b1cb-ff9339425e74",
   "metadata": {},
   "outputs": [
    {
     "data": {
      "text/plain": [
       "(20974, 15)"
      ]
     },
     "execution_count": 5,
     "metadata": {},
     "output_type": "execute_result"
    }
   ],
   "source": [
    "cod_data.shape"
   ]
  },
  {
   "cell_type": "markdown",
   "id": "ebf02655-1e96-4690-a850-a449d44e876f",
   "metadata": {},
   "source": [
    "The first feature I will look at is upwelling and water temperature at 1 m (the surface) for that day. There are not a ton of days that experience upwelling (colder deposit of ocean water into the bay) so I would not predict high values for this. I also would predict that temperature on the surface on days that experience upwelling will drop a bit than days that do not. The describe function for temperature at 1 meter would include all of the observations and likely be around 15 degrees just based on the most common values in the data set. "
   ]
  },
  {
   "cell_type": "code",
   "execution_count": 115,
   "id": "f214a177-260e-42c6-bcdb-fcd1b01ffb38",
   "metadata": {},
   "outputs": [
    {
     "data": {
      "text/plain": [
       "count    20974.000000\n",
       "mean         0.040145\n",
       "std          0.196304\n",
       "min          0.000000\n",
       "25%          0.000000\n",
       "50%          0.000000\n",
       "75%          0.000000\n",
       "max          1.000000\n",
       "Name: Upwelling, dtype: float64"
      ]
     },
     "execution_count": 115,
     "metadata": {},
     "output_type": "execute_result"
    }
   ],
   "source": [
    "cod_data['Upwelling'].describe()"
   ]
  },
  {
   "cell_type": "code",
   "execution_count": 116,
   "id": "627286ce-a30d-4306-b6b9-c4a23cf4efb3",
   "metadata": {},
   "outputs": [
    {
     "data": {
      "text/plain": [
       "count    20450.000000\n",
       "mean        14.208714\n",
       "std          4.107900\n",
       "min         -0.110000\n",
       "25%         12.750000\n",
       "50%         15.060000\n",
       "75%         17.100000\n",
       "max         21.500000\n",
       "Name: Temperature_1m, dtype: float64"
      ]
     },
     "execution_count": 116,
     "metadata": {},
     "output_type": "execute_result"
    }
   ],
   "source": [
    "cod_data['Temperature_1m'].describe()"
   ]
  },
  {
   "cell_type": "markdown",
   "id": "fbcd8681-7f2b-46ed-99cb-7b009cc3ddc4",
   "metadata": {},
   "source": [
    "The describe function for upwelling is similar to my prediction because the values are low. The data set measures upwelling as 1 and no upwelling as 0 so this is more of a categorical value so the mean being near zero makes sense. The describe function for temperature at 1 meter is also close to what I predicted as the mean is 14.2, or near 15 and the range (min and max values) is about what I expected. "
   ]
  },
  {
   "cell_type": "markdown",
   "id": "c8b27eaa-4916-4234-8936-70a2f7e4a149",
   "metadata": {},
   "source": [
    "3.3"
   ]
  },
  {
   "cell_type": "markdown",
   "id": "21fbfb89-6bf2-4bf6-a3af-b7edaea10aea",
   "metadata": {},
   "source": [
    "For these features, a box plot would be an appropiate visualization. This is because you could easily see the difference in means between the two categories, the days that experience upwelling and the days that do not experience upwelling. You could compare the two categories and see if the temperature at 1 meter on the surface of the water differs under these two conditions. "
   ]
  },
  {
   "cell_type": "markdown",
   "id": "d301d229-6419-450e-86db-36b1e7966478",
   "metadata": {},
   "source": [
    "To make the plot, I used seaborn to create a box plot of the two features I described in 3.2, the data I used is the cod_data data frame, I assigned the x axis to be upwelling (0 is no, 1 is yes) and I assigned the y axis to be the temperature at 1 meter. The box plots represent the observations which are the days that data was recorded of the fish over the course of 4 years. The lines in the box plots represent the mean of the data in each category and the outsides represent the less than 25% of the data and more than 75% of the data in the describe function. The mean in the describe function for the temperature at 1 meter was around 14.2 which can be observed in the box plot, both boxes have a mean at about 14 and most of the data falls in the 0 category so it makes sense that the mean of the first box is closer to 14. Observing that the mean of the box at 1 for upwelling is lower indicates that the days that experienced upwelling had a lower temperature at 1 meter on average."
   ]
  },
  {
   "cell_type": "code",
   "execution_count": 5,
   "id": "d9202cbb-b575-482e-b496-6135ff936684",
   "metadata": {},
   "outputs": [
    {
     "data": {
      "text/plain": [
       "<seaborn.axisgrid.FacetGrid at 0x2b5418b6780>"
      ]
     },
     "execution_count": 5,
     "metadata": {},
     "output_type": "execute_result"
    },
    {
     "data": {
      "image/png": "[encoded data removed]",
      "text/plain": [
       "<Figure size 511.111x500 with 1 Axes>"
      ]
     },
     "metadata": {},
     "output_type": "display_data"
    }
   ],
   "source": [
    "visualdf1 = cod_data.loc[:, ['Upwelling', 'Temperature_1m']]\n",
    "sns.catplot(data = cod_data, x = 'Upwelling', y = 'Temperature_1m', kind ='box')"
   ]
  },
  {
   "cell_type": "markdown",
   "id": "b0eebf37-9294-4b89-bfb8-b97beaa0ce3d",
   "metadata": {},
   "source": [
    "This plot relates to the goal of the research paper because it would help strengthen the results section. Accounting for differences in temperature on the surface of the water could explain some change in behavior for the fish, and so the next step might be to look at this relationship next. If the temperature at 1 meter is different on days that there is upwelling, how does this change the behavior of the cod fish?"
   ]
  },
  {
   "cell_type": "markdown",
   "id": "13b97303-2e86-45ae-a0e1-bd34f101ece4",
   "metadata": {},
   "source": [
    "3.2"
   ]
  },
  {
   "cell_type": "markdown",
   "id": "707ca749-933a-4510-9109-1d17679a3afd",
   "metadata": {},
   "source": [
    "The second feature I will look at is the year and the average depth per day for that year, and during the two seasons observed (winter and summer). The describe function for the year would list the minimum as 2008 and the maximum as 2012 because that is the range of years of the data. The describe function for the average depth during the day would represent the mean of the depth that the fish resided in during each day which would likely be around 10 meters. The describe functio on the season would not give back numbers because they are strings so it would give back when most of the observations were taken and how many categories there are.  "
   ]
  },
  {
   "cell_type": "code",
   "execution_count": 14,
   "id": "799fca8a-9a0b-43f3-8379-8e2caf3da1e1",
   "metadata": {},
   "outputs": [
    {
     "data": {
      "text/plain": [
       "count    20974.000000\n",
       "mean      2010.417803\n",
       "std          1.669346\n",
       "min       2008.000000\n",
       "25%       2008.000000\n",
       "50%       2011.000000\n",
       "75%       2012.000000\n",
       "max       2012.000000\n",
       "Name: Year, dtype: float64"
      ]
     },
     "execution_count": 14,
     "metadata": {},
     "output_type": "execute_result"
    }
   ],
   "source": [
    "cod_data['Year'].describe()"
   ]
  },
  {
   "cell_type": "code",
   "execution_count": 7,
   "id": "6f55ba04-849f-4904-acd9-743aa72d393f",
   "metadata": {},
   "outputs": [
    {
     "data": {
      "text/plain": [
       "count    20782.000000\n",
       "mean        11.043200\n",
       "std          5.251429\n",
       "min          0.090010\n",
       "25%          6.641661\n",
       "50%         10.716716\n",
       "75%         14.701733\n",
       "max         37.034615\n",
       "Name: Average_depth_day, dtype: float64"
      ]
     },
     "execution_count": 7,
     "metadata": {},
     "output_type": "execute_result"
    }
   ],
   "source": [
    "cod_data['Average_depth_day'].describe()"
   ]
  },
  {
   "cell_type": "code",
   "execution_count": 25,
   "id": "28b0a8ab-93c9-4f9c-94c9-2206cfbd1301",
   "metadata": {},
   "outputs": [
    {
     "data": {
      "text/plain": [
       "count      20974\n",
       "unique         2\n",
       "top       summer\n",
       "freq       15025\n",
       "Name: Season, dtype: object"
      ]
     },
     "execution_count": 25,
     "metadata": {},
     "output_type": "execute_result"
    }
   ],
   "source": [
    "cod_data['Season'].describe()"
   ]
  },
  {
   "cell_type": "markdown",
   "id": "91a73c19-09ab-4682-856a-c23c9a412d81",
   "metadata": {},
   "source": [
    "The describe function for the year is as expected with the range of years being 2008 to 2012. The mean year is 2010 which is to be expected. The mean for the average depth per day is 11, but this includes both seasons in the calculation so it also makes sense that the minimum and maximum depths are a large range. The describe function for the season also is similar to what I predicted because there are two unique values and there were more observations recorded in the summer than in the winter. "
   ]
  },
  {
   "cell_type": "markdown",
   "id": "010288ad-7da5-4d4e-acb7-790052d86947",
   "metadata": {},
   "source": [
    "3.3"
   ]
  },
  {
   "cell_type": "markdown",
   "id": "87e85f87-5f52-4359-ae72-cf32a44bd828",
   "metadata": {},
   "source": [
    "The visualization that makes sense for these features would be a bar plot because you can view each of the categories for the data and their average value for what you plot on the y axis. This will help to answer the research question on how the fish behave in different seasons, which also could be an indicator for water temperature. "
   ]
  },
  {
   "cell_type": "markdown",
   "id": "0ebc70d2-e44d-452f-8a2f-84318b15d3ac",
   "metadata": {},
   "source": [
    "To make this plot I will use seaborn and make a bar plot. The data will be set equal to cod_data, the x axis will be assigned to the year, the y axis will be assigned to the Average depth during the day, and the hue will be set to the season. Setting the hue to season will separate the data for each year into groups by season and color code it so that the plot can be interpreted. "
   ]
  },
  {
   "cell_type": "code",
   "execution_count": 24,
   "id": "8e5b13fe-ca97-4b82-a903-64df3cfa4b02",
   "metadata": {},
   "outputs": [
    {
     "data": {
      "text/plain": [
       "<Axes: xlabel='Year', ylabel='Average_depth_day'>"
      ]
     },
     "execution_count": 24,
     "metadata": {},
     "output_type": "execute_result"
    },
    {
     "data": {
      "image/png": "[encoded data removed]",
      "text/plain": [
       "<Figure size 640x480 with 1 Axes>"
      ]
     },
     "metadata": {},
     "output_type": "display_data"
    }
   ],
   "source": [
    "sns.barplot(data = cod_data, x = 'Year', y='Average_depth_day', hue = 'Season')"
   ]
  },
  {
   "cell_type": "markdown",
   "id": "9b3c58f8-f9da-4139-9917-b381694bf982",
   "metadata": {},
   "source": [
    "The plot is what is expected based on the describe functions in 3.2 because all of the means (the top of the bars) are around 11 meters and there are 4 years listed on the x axis. The plot inidicates that the fish, on average, resided in lower depths during the summer than in the winter, except for in 2009. "
   ]
  },
  {
   "cell_type": "markdown",
   "id": "cd9865e4-18a5-4423-8f44-b9a157381313",
   "metadata": {},
   "source": [
    "This visualization helps to support the research question about changes in fish behavior under differnet conditions, such as water temperature and the season. "
   ]
  },
  {
   "cell_type": "code",
   "execution_count": null,
   "id": "d5350c60-a5b7-4b4c-b02d-258d28ba88c4",
   "metadata": {},
   "outputs": [],
   "source": []
  }
 ],
 "metadata": {
  "kernelspec": {
   "display_name": "Python 3 (ipykernel)",
   "language": "python",
   "name": "python3"
  },
  "language_info": {
   "codemirror_mode": {
    "name": "ipython",
    "version": 3
   },
   "file_extension": ".py",
   "mimetype": "text/x-python",
   "name": "python",
   "nbconvert_exporter": "python",
   "pygments_lexer": "ipython3",
   "version": "3.12.5"
  }
 },
 "nbformat": 4,
 "nbformat_minor": 5
}
